{
  "nbformat": 4,
  "nbformat_minor": 0,
  "metadata": {
    "colab": {
      "provenance": []
    },
    "kernelspec": {
      "name": "python3",
      "display_name": "Python 3"
    },
    "language_info": {
      "name": "python"
    }
  },
  "cells": [
    {
      "cell_type": "code",
      "execution_count": 2,
      "metadata": {
        "id": "F2fInSzBi8B7"
      },
      "outputs": [],
      "source": [
        "# 50.Machine Learning"
      ]
    },
    {
      "cell_type": "code",
      "source": [
        "# Q What is the difference between Series & Dataframes.\n",
        "# Ans>> A Series and a DataFrame are fundamental data structures in the pandas library, used for data manipulation and analysis. Here are the key differences between them:\n",
        "# Series: A Series is a one-dimensional array-like structure that can hold elements of any data type. It is similar to a single column in a spreadsheet or a single array in programming.\n",
        "# DataFrame: A DataFrame is a two-dimensional, tabular data structure with labeled axes (rows and columns). It is akin to an entire table or a spreadsheet, with each column potentially holding data of different types.\n",
        "import pandas as pd\n",
        "# Creating a Series\n",
        "s = pd.Series([10, 20, 30, 40], index=['a', 'b', 'c', 'd'])\n",
        "print(s)\n",
        "# Creating a DataFrame\n",
        "df = pd.DataFrame({\n",
        "    'Name': ['Alice', 'Bob', 'Charlie'],\n",
        "    'Age': [25, 30, 35],\n",
        "    'Salary': [50000, 60000, 70000]\n",
        "})\n",
        "print(df)\n",
        "\n"
      ],
      "metadata": {
        "colab": {
          "base_uri": "https://localhost:8080/"
        },
        "id": "VLhHSxw9jQPR",
        "outputId": "5d3eab9a-d57e-4022-a44b-a56886fc55b6"
      },
      "execution_count": 1,
      "outputs": [
        {
          "output_type": "stream",
          "name": "stdout",
          "text": [
            "a    10\n",
            "b    20\n",
            "c    30\n",
            "d    40\n",
            "dtype: int64\n",
            "      Name  Age  Salary\n",
            "0    Alice   25   50000\n",
            "1      Bob   30   60000\n",
            "2  Charlie   35   70000\n"
          ]
        }
      ]
    },
    {
      "cell_type": "code",
      "source": [
        "# Q Difference between loc and iloc.\n",
        "# ANS>> In pandas, .loc and .iloc are methods used for data selection and manipulation in DataFrames. They differ primarily in how they refer to data within the DataFrame.\n",
        "# loc:\n",
        "# Label-based Indexing: .loc is used to access a group of rows and columns by their labels or a boolean array. It requires that you specify the exact row and column labels.\n",
        "# Inclusive Slicing: When using slices, .loc includes both the start and end labels.\n",
        "# Flexible Indexing: .loc allows for mixed indexing (using both row and column labels) and supports boolean indexing.\n",
        "import pandas as pd\n",
        "\n",
        "# Sample DataFrame\n",
        "df = pd.DataFrame({\n",
        "    'A': [1, 2, 3],\n",
        "    'B': [4, 5, 6],\n",
        "    'C': [7, 8, 9]\n",
        "}, index=['row1', 'row2', 'row3'])\n",
        "\n",
        "# Accessing data using .loc\n",
        "print(df.loc['row1', 'A'])       # Accessing a single element\n",
        "print(df.loc['row1':'row2', ['A', 'C']])  # Accessing a subset of rows and columns\n",
        "\n",
        "# iloc:\n",
        "# Integer-location Based Indexing: .iloc is used to access a group of rows and columns by their integer positions, which are similar to the positions used in Python lists.\n",
        "# Exclusive Slicing: When using slices, .iloc excludes the end index, which is typical of Python's slicing behavior.\n",
        "# Position-based Indexing: .iloc does not consider the labels of the rows and columns; it uses only their numerical positions.\n",
        "import pandas as pd\n",
        "\n",
        "# Sample DataFrame\n",
        "df = pd.DataFrame({\n",
        "    'A': [1, 2, 3],\n",
        "    'B': [4, 5, 6],\n",
        "    'C': [7, 8, 9]\n",
        "})\n",
        "\n",
        "# Accessing data using .iloc\n",
        "print(df.iloc[0, 0])      # Accessing a single element\n",
        "print(df.iloc[0:2, [0, 2]])  # Accessing a subset of rows and columns\n",
        "\n",
        "\n"
      ],
      "metadata": {
        "colab": {
          "base_uri": "https://localhost:8080/"
        },
        "id": "MRgOCpApkIaK",
        "outputId": "21c32d96-dfa8-4a94-89b6-a9a0d86caac4"
      },
      "execution_count": 3,
      "outputs": [
        {
          "output_type": "stream",
          "name": "stdout",
          "text": [
            "1\n",
            "      A  C\n",
            "row1  1  7\n",
            "row2  2  8\n",
            "1\n",
            "   A  C\n",
            "0  1  7\n",
            "1  2  8\n"
          ]
        }
      ]
    }
  ]
}